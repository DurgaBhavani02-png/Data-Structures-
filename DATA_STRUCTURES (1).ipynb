{
  "nbformat": 4,
  "nbformat_minor": 0,
  "metadata": {
    "colab": {
      "provenance": []
    },
    "kernelspec": {
      "name": "python3",
      "display_name": "Python 3"
    },
    "language_info": {
      "name": "python"
    }
  },
  "cells": [
    {
      "cell_type": "markdown",
      "source": [
        "# What are data structures, and why are they important?\n",
        "Ans : Data structures are used to store and organise data and\n",
        "      we can we manuplate data efficiently using data structures and this makes to understand the code easy\n",
        "      "
      ],
      "metadata": {
        "id": "r1tkHLTyVlc0"
      }
    },
    {
      "cell_type": "markdown",
      "source": [],
      "metadata": {
        "id": "G0gBh6OOXKyI"
      }
    },
    {
      "cell_type": "markdown",
      "source": [
        "#Explain the difference between mutable and immutable data types with examples\n",
        "Ans:Mutable - If a data type is mutable means we can modify and access the data based on our requirement ex- list and sets\n",
        "a= [1, 2, 3,4]\n",
        "a[0]= 9\n",
        "a= [9,2,3,4]\n",
        "\n",
        "Immutable - If a data type is immutable means we cannot modify and access the data based on our requirement ex- string and tuple\n",
        "t = (o, p, k)\n",
        "t[1]= \"i\"\n",
        "when we execute it will throw an error."
      ],
      "metadata": {
        "id": "OVp0gIb0XPr0"
      }
    },
    {
      "cell_type": "code",
      "source": [],
      "metadata": {
        "id": "aW6bBZ3SXUKA"
      },
      "execution_count": null,
      "outputs": []
    },
    {
      "cell_type": "markdown",
      "source": [
        "# What are the main differences between lists and tuples in Python3\n",
        "\n",
        "\n",
        "*   list -mutable,more methods can use, it takes more memory as it is mutable, size is not fixed, symbol - []\n",
        "*   tuple - immutable, more methods cannot use, it takes less memory as it is immutable and size is fixed,symbol - ()\n",
        "\n",
        "\n"
      ],
      "metadata": {
        "id": "kzerD2c5YfTq"
      }
    },
    {
      "cell_type": "code",
      "source": [],
      "metadata": {
        "id": "xlpH7hAnZjOc"
      },
      "execution_count": null,
      "outputs": []
    },
    {
      "cell_type": "markdown",
      "source": [
        "#Describe how dictionaries store data\n",
        "\n",
        "\n",
        "*  Dictionaries stores data in the format of key , value pairs.\n",
        "bag =  {\"fruit : \"mango:,\n",
        "     \"pencil\" : \"apsara\",\n",
        "     \"box\" : \"orange colour\"\n",
        "}\n",
        "\n"
      ],
      "metadata": {
        "id": "4r2vHsRLZ_qT"
      }
    },
    {
      "cell_type": "code",
      "source": [],
      "metadata": {
        "id": "sp4VJRnqapDi"
      },
      "execution_count": null,
      "outputs": []
    },
    {
      "cell_type": "markdown",
      "source": [
        "# Why might you use a set instead of a list in Python3\n",
        "\n",
        "\n",
        "*   sets won't store duplicates as like list\n",
        "*   if we don't want items to change we use set(using frozen set) instead of list\n",
        "\n"
      ],
      "metadata": {
        "id": "45ucgCIta5oo"
      }
    },
    {
      "cell_type": "code",
      "source": [],
      "metadata": {
        "id": "HxIbCJ2Hb70L"
      },
      "execution_count": null,
      "outputs": []
    },
    {
      "cell_type": "markdown",
      "source": [
        "# What is a string in Python, and how is it different from a list3\n",
        "\n",
        "\n",
        "*   strings are sequence of characters and we can manipulate textual data\n",
        "*   strings are immutable where as list are mutable\n",
        "*   string can store only characters but list can store any data type\n",
        "\n",
        "\n",
        "\n"
      ],
      "metadata": {
        "id": "WUQIrMQxcB6f"
      }
    },
    {
      "cell_type": "code",
      "source": [],
      "metadata": {
        "id": "BjjTzCu8c-Zb"
      },
      "execution_count": null,
      "outputs": []
    },
    {
      "cell_type": "markdown",
      "source": [
        "# How do tuples ensure data integrity in Python3\n",
        "\n",
        "\n",
        "*   As tuple are immutable and we cannot modify the data so it is more useful to store unique data in tuple and it will remain throught the life\n",
        "\n",
        "\n",
        "\n",
        "\n"
      ],
      "metadata": {
        "id": "_XTm9-YNdOBg"
      }
    },
    {
      "cell_type": "code",
      "source": [],
      "metadata": {
        "id": "WgLpTPZheIv_"
      },
      "execution_count": null,
      "outputs": []
    },
    {
      "cell_type": "markdown",
      "source": [
        "# What is a hash table, and how does it relate to dictionaries in Python3\n",
        "\n",
        "\n",
        "*   It store data in key , value pairs and if we want interact with dictionaries we can use these hash table\n",
        "\n",
        "\n"
      ],
      "metadata": {
        "id": "DT_ro4kseP7w"
      }
    },
    {
      "cell_type": "code",
      "source": [],
      "metadata": {
        "id": "0RCZbOedguz_"
      },
      "execution_count": null,
      "outputs": []
    },
    {
      "cell_type": "markdown",
      "source": [
        "# Can lists contain different data types in Python3\n",
        "\n",
        "\n",
        "* yes, as list are heterogeneous in nature we can store different data types in it.\n",
        "\n",
        "\n"
      ],
      "metadata": {
        "id": "AJgGG2G0gxt3"
      }
    },
    {
      "cell_type": "code",
      "source": [],
      "metadata": {
        "id": "-49t078HhC1K"
      },
      "execution_count": null,
      "outputs": []
    },
    {
      "cell_type": "markdown",
      "source": [
        "#  Explain why strings are immutable in Python\n",
        "\n",
        "*   strings are immutable because once we created any any string we cannot modify the data in it .\n",
        "*   if we want to change it will create another string\n",
        "\n"
      ],
      "metadata": {
        "id": "MdejGlgchKtD"
      }
    },
    {
      "cell_type": "code",
      "source": [],
      "metadata": {
        "id": "Aehb79LGh3HG"
      },
      "execution_count": null,
      "outputs": []
    },
    {
      "cell_type": "markdown",
      "source": [
        "# What advantages do dictionaries offer over lists for certain tasks3\n",
        "\n",
        "\n",
        "*   fetching of data will be easy in case dictionaries compared to list as they are specified using keys\n",
        "*   time consumption will be less\n",
        "\n"
      ],
      "metadata": {
        "id": "1FJ0ZE1Xh9p4"
      }
    },
    {
      "cell_type": "code",
      "source": [],
      "metadata": {
        "id": "sOrHQibUizG1"
      },
      "execution_count": null,
      "outputs": []
    },
    {
      "cell_type": "markdown",
      "source": [
        "#  Describe a scenario where using a tuple would be preferable over a list\n",
        "\n",
        "\n",
        "*  As tuple are immutable we cannot chage the data once it created we use tuple to store unique data because it won't store duplicate values list.\n",
        "\n",
        "*  example - We all have aadhar card and the number has to be unique for everyone in that case we use tuples to store aadhar number\n",
        "\n"
      ],
      "metadata": {
        "id": "ZCp0XbjCi_Fa"
      }
    },
    {
      "cell_type": "code",
      "source": [],
      "metadata": {
        "id": "SxIyiIChjviU"
      },
      "execution_count": null,
      "outputs": []
    },
    {
      "cell_type": "markdown",
      "source": [
        "# How do sets handle duplicate values in Python3\n",
        "\n",
        "\n",
        "*   sets are unordered and it contains unique collection of elements\n",
        "*   if we want store any duplicate elements it won't store and it will ignore it.\n",
        "\n"
      ],
      "metadata": {
        "id": "F3hkvSYqj5op"
      }
    },
    {
      "cell_type": "code",
      "source": [],
      "metadata": {
        "id": "NjVflEbuk3Po"
      },
      "execution_count": null,
      "outputs": []
    },
    {
      "cell_type": "markdown",
      "source": [
        "# How does the “in” keyword work differently for lists and dictionaries3\n",
        "\n",
        "\n",
        "*   in list we use \"in\" keyword to fetch the index elemts directly\n",
        "*   in dictionaries \"in\" keyword is used to fetch values using keys.\n",
        "\n",
        "\n"
      ],
      "metadata": {
        "id": "BWWx9GFdk8Oy"
      }
    },
    {
      "cell_type": "code",
      "source": [],
      "metadata": {
        "id": "gWJH7WK0lypv"
      },
      "execution_count": null,
      "outputs": []
    },
    {
      "cell_type": "markdown",
      "source": [
        "# Can you modify the elements of a tuple? Explain why or why not\n",
        "\n",
        "\n",
        "*  We cannot modify the elemnts in tuple because tuple are immutable in nature and once it created the size will be fixed so that u cannot modify the elements in it.\n",
        "\n",
        "\n"
      ],
      "metadata": {
        "id": "G-QofG_xl3rq"
      }
    },
    {
      "cell_type": "code",
      "source": [],
      "metadata": {
        "id": "MkR3YPvYmX4w"
      },
      "execution_count": null,
      "outputs": []
    },
    {
      "cell_type": "markdown",
      "source": [
        "# What is a nested dictionary, and give an example of its use case\n",
        "\n",
        "\n",
        "*   Having dictionaries inside a dictionary is called nested dictionary\n",
        "\n"
      ],
      "metadata": {
        "id": "tZ9mS8CimfTR"
      }
    },
    {
      "cell_type": "code",
      "source": [
        "#example of nested dictionaries\n",
        "class_record = {\n",
        "    \"boys\":{'ram':'1st rank','shyam':'2nd rank'},\n",
        "    \"girls\":{'rani':'3rd rank','pooja':'4th rank'}\n",
        "}\n",
        "print(class_record)"
      ],
      "metadata": {
        "colab": {
          "base_uri": "https://localhost:8080/"
        },
        "id": "oLetdotunTBx",
        "outputId": "ea3b6ff2-9345-4e4d-d13b-095f1850eeab"
      },
      "execution_count": null,
      "outputs": [
        {
          "output_type": "stream",
          "name": "stdout",
          "text": [
            "{'boys': {'ram': '1st rank', 'shyam': '2nd rank'}, 'girls': {'rani': '3rd rank', 'pooja': '4th rank'}}\n"
          ]
        }
      ]
    },
    {
      "cell_type": "code",
      "source": [],
      "metadata": {
        "id": "Tkfd2z4FoX82"
      },
      "execution_count": null,
      "outputs": []
    },
    {
      "cell_type": "markdown",
      "source": [
        "#  Describe the time complexity of accessing elements in a dictionary\n",
        "\n",
        "\n",
        "*   accessing elements in dictionary is easy beacause we are accessing the values through keys as keys are unique\n",
        "\n",
        "\n"
      ],
      "metadata": {
        "id": "Zketna4FsOWF"
      }
    },
    {
      "cell_type": "code",
      "source": [],
      "metadata": {
        "id": "cDh208iJqeOJ"
      },
      "execution_count": null,
      "outputs": []
    },
    {
      "cell_type": "markdown",
      "source": [
        "# In what situations are lists preferred over dictionaries\n",
        "\n",
        "*  if we want an ordered collections of things we use lists over dictionaries beacoause dictionaries are unordered\n",
        "*  keyas cannot be duplicate in dictionaries but in list we can have many duplicates\n",
        "\n"
      ],
      "metadata": {
        "id": "L8RChsqG2jjV"
      }
    },
    {
      "cell_type": "code",
      "source": [],
      "metadata": {
        "id": "b7atzH_e3vWz"
      },
      "execution_count": null,
      "outputs": []
    },
    {
      "cell_type": "markdown",
      "source": [
        "# Why are dictionaries considered unordered, and how does that affect data retrieval\n",
        "\n",
        "\n",
        "*    Items in dictionary won't store data in defined orders that's why they are unordered so that we cannot access the particular element.\n",
        "*    Dictionary is unordered beacuse in dictionary we can use any data types but in keys are immutable\n",
        "\n",
        "\n"
      ],
      "metadata": {
        "id": "dz-AQEzG32G6"
      }
    },
    {
      "cell_type": "code",
      "source": [],
      "metadata": {
        "id": "iCuK986n5HcK"
      },
      "execution_count": null,
      "outputs": []
    },
    {
      "cell_type": "markdown",
      "source": [
        "#  Explain the difference between a list and a dictionary in terms of data retrieval.\n",
        "\n",
        "\n",
        "* In list we can access any element using indexing concept but we cannot access in dictionary using indexing concept as they are unordered.\n",
        "* In list we can add or remove data at any index number but in case of dictionary we cannot data or remove particular data using indexing because dictionaries are unordered.\n",
        "\n"
      ],
      "metadata": {
        "id": "PY-vAPT65Wem"
      }
    },
    {
      "cell_type": "code",
      "source": [],
      "metadata": {
        "id": "HU3MTs7m57r4"
      },
      "execution_count": null,
      "outputs": []
    },
    {
      "cell_type": "markdown",
      "source": [
        "# Practical Questions"
      ],
      "metadata": {
        "id": "iK4MgePb6Oz1"
      }
    },
    {
      "cell_type": "code",
      "source": [
        "# P Write a code to create a string with your name and print it\n",
        "Name = \"Durga Bhavani\"\n",
        "print(Name)"
      ],
      "metadata": {
        "colab": {
          "base_uri": "https://localhost:8080/"
        },
        "id": "Te95uvNZ6P3-",
        "outputId": "91cb9e22-5a49-423d-beb6-0aa84b9eb23a"
      },
      "execution_count": 22,
      "outputs": [
        {
          "output_type": "stream",
          "name": "stdout",
          "text": [
            "Durga Bhavani\n"
          ]
        }
      ]
    },
    {
      "cell_type": "code",
      "source": [
        "# Write a code to find the length of the string \"Hello World\"\n",
        "String_length = \"Hello World\"\n",
        "print(len(String_length))"
      ],
      "metadata": {
        "colab": {
          "base_uri": "https://localhost:8080/"
        },
        "id": "XhLbLEpk6hI9",
        "outputId": "3fa3fd09-0c39-42af-a96d-dcfb00a5e543"
      },
      "execution_count": 23,
      "outputs": [
        {
          "output_type": "stream",
          "name": "stdout",
          "text": [
            "11\n"
          ]
        }
      ]
    },
    {
      "cell_type": "code",
      "source": [
        "#  Write a code to slice the first 3 characters from the string \"Python Programming\"\n",
        "characters = \"Python Programming\"\n",
        "print(characters[0:3])"
      ],
      "metadata": {
        "colab": {
          "base_uri": "https://localhost:8080/"
        },
        "id": "IBX8mkLF61pj",
        "outputId": "1aef8544-bf08-42dc-856a-5f7034c9574a"
      },
      "execution_count": 24,
      "outputs": [
        {
          "output_type": "stream",
          "name": "stdout",
          "text": [
            "Pyt\n"
          ]
        }
      ]
    },
    {
      "cell_type": "code",
      "source": [
        "# Write a code to convert the string \"hello\" to uppercase\n",
        "code = \"hello\"\n",
        "print(code.upper())"
      ],
      "metadata": {
        "colab": {
          "base_uri": "https://localhost:8080/"
        },
        "id": "ETpKCBBp7FnK",
        "outputId": "65f11b75-53b2-48e8-cb37-a83941cc4672"
      },
      "execution_count": 25,
      "outputs": [
        {
          "output_type": "stream",
          "name": "stdout",
          "text": [
            "HELLO\n"
          ]
        }
      ]
    },
    {
      "cell_type": "code",
      "source": [
        "# Write a code to replace the word \"apple\" with \"orange\" in the string \"I like apple\"\n",
        "sentence = \"I like apple\"\n",
        "sentence.replace(\"apple\",\"orange\")\n"
      ],
      "metadata": {
        "colab": {
          "base_uri": "https://localhost:8080/",
          "height": 36
        },
        "id": "APVBcFcc7PaG",
        "outputId": "146755fa-0893-4bff-9f8f-d189a05c2f79"
      },
      "execution_count": 35,
      "outputs": [
        {
          "output_type": "execute_result",
          "data": {
            "text/plain": [
              "'I like orange'"
            ],
            "application/vnd.google.colaboratory.intrinsic+json": {
              "type": "string"
            }
          },
          "metadata": {},
          "execution_count": 35
        }
      ]
    },
    {
      "cell_type": "code",
      "source": [
        "# Write a code to create a list with numbers 1 to 5 and print it\n",
        "num_list = [1,2,3,4,5]\n",
        "print(num_list)"
      ],
      "metadata": {
        "colab": {
          "base_uri": "https://localhost:8080/"
        },
        "id": "ZI6bof8r7mL-",
        "outputId": "aa404c66-754d-445f-dc4c-632355ca946e"
      },
      "execution_count": 37,
      "outputs": [
        {
          "output_type": "stream",
          "name": "stdout",
          "text": [
            "[1, 2, 3, 4, 5]\n"
          ]
        }
      ]
    },
    {
      "cell_type": "code",
      "source": [
        "#  Write a code to append the number 10 to the list [1, 2, 3, 4]\n",
        "adding_num = [1, 2, 3, 4]\n",
        "adding_num.append(10)\n",
        "print(adding_num)"
      ],
      "metadata": {
        "colab": {
          "base_uri": "https://localhost:8080/"
        },
        "id": "CLz6rKlt8ycx",
        "outputId": "bdb2fb16-424f-42dc-8f8c-efcae63f3d50"
      },
      "execution_count": 39,
      "outputs": [
        {
          "output_type": "stream",
          "name": "stdout",
          "text": [
            "[1, 2, 3, 4, 10]\n"
          ]
        }
      ]
    },
    {
      "cell_type": "code",
      "source": [
        "#  Write a code to remove the number 3 from the list [1, 2, 3, 4, 5]\n",
        "remove_num = [1, 2, 3, 4, 5]\n",
        "remove_num.remove(3)\n",
        "print(remove_num)"
      ],
      "metadata": {
        "colab": {
          "base_uri": "https://localhost:8080/"
        },
        "id": "YkafA5WU9PGp",
        "outputId": "08c64a50-dce7-49ee-dbb7-b47acc27bc23"
      },
      "execution_count": 40,
      "outputs": [
        {
          "output_type": "stream",
          "name": "stdout",
          "text": [
            "[1, 2, 4, 5]\n"
          ]
        }
      ]
    },
    {
      "cell_type": "code",
      "source": [
        "# Write a code to access the second element in the list ['a', 'b', 'c', 'd']\n",
        "list = ['a', 'b', 'c', 'd']\n",
        "print(list[1])"
      ],
      "metadata": {
        "colab": {
          "base_uri": "https://localhost:8080/"
        },
        "id": "oOPCGDjd9dbP",
        "outputId": "6684bf09-893f-4a7f-964d-519ff478643f"
      },
      "execution_count": 41,
      "outputs": [
        {
          "output_type": "stream",
          "name": "stdout",
          "text": [
            "b\n"
          ]
        }
      ]
    },
    {
      "cell_type": "code",
      "source": [
        "#  Write a code to reverse the list [10, 20, 30, 40, 50].\n",
        "reverse =  [10, 20, 30, 40, 50]\n",
        "print(reverse[::-1])"
      ],
      "metadata": {
        "colab": {
          "base_uri": "https://localhost:8080/"
        },
        "id": "_4fH5jqa9tQY",
        "outputId": "f54aeb21-38fa-4a1a-e4f7-83df6e8e64d5"
      },
      "execution_count": 46,
      "outputs": [
        {
          "output_type": "stream",
          "name": "stdout",
          "text": [
            "[50, 40, 30, 20, 10]\n"
          ]
        }
      ]
    },
    {
      "cell_type": "code",
      "source": [
        "# Write a code to create a tuple with the elements 100, 200, 300 and print it\n",
        "tuple = (100, 200, 300)\n",
        "print(tuple)\n"
      ],
      "metadata": {
        "colab": {
          "base_uri": "https://localhost:8080/"
        },
        "id": "_J_sSvz894yv",
        "outputId": "04dc092c-93c3-427d-84bc-8da662a8f7bf"
      },
      "execution_count": 49,
      "outputs": [
        {
          "output_type": "stream",
          "name": "stdout",
          "text": [
            "(100, 200, 300)\n"
          ]
        }
      ]
    },
    {
      "cell_type": "code",
      "source": [
        "# Write a code to access the second-to-last element of the tuple ('red', 'green', 'blue', 'yellow')\n",
        "colours = ('red', 'green', 'blue', 'yellow')\n",
        "colours[1:]"
      ],
      "metadata": {
        "colab": {
          "base_uri": "https://localhost:8080/"
        },
        "id": "Qq4ninXD-vkb",
        "outputId": "f5edc76c-183c-49fd-9365-a560198cd0cf"
      },
      "execution_count": 50,
      "outputs": [
        {
          "output_type": "execute_result",
          "data": {
            "text/plain": [
              "('green', 'blue', 'yellow')"
            ]
          },
          "metadata": {},
          "execution_count": 50
        }
      ]
    },
    {
      "cell_type": "code",
      "source": [
        "#  Write a code to find the minimum number in the tuple (10, 20, 5, 15)\n",
        "a = (10, 20, 5, 15)\n",
        "print(min(a))"
      ],
      "metadata": {
        "colab": {
          "base_uri": "https://localhost:8080/"
        },
        "id": "NUndshmc_CIV",
        "outputId": "8ae94f7e-805b-456d-fbc6-a3cd29388edf"
      },
      "execution_count": 51,
      "outputs": [
        {
          "output_type": "stream",
          "name": "stdout",
          "text": [
            "5\n"
          ]
        }
      ]
    },
    {
      "cell_type": "code",
      "source": [
        "# Write a code to find the index of the element \"cat\" in the tuple ('dog', 'cat', 'rabbit')\n",
        "b= ('dog', 'cat', 'rabbit')\n",
        "print(b.index('cat'))"
      ],
      "metadata": {
        "colab": {
          "base_uri": "https://localhost:8080/"
        },
        "id": "xs4uMFwg_N3a",
        "outputId": "3b35b37b-2aef-46b1-a287-2e8d782c0c58"
      },
      "execution_count": 56,
      "outputs": [
        {
          "output_type": "stream",
          "name": "stdout",
          "text": [
            "1\n"
          ]
        }
      ]
    },
    {
      "cell_type": "code",
      "source": [
        "# Write a code to create a tuple containing three different fruits and check if \"kiwi\" is in it\n",
        "fruits = ('applae','banana', 'orange','kiwi')\n",
        "'kiwi' in fruits"
      ],
      "metadata": {
        "colab": {
          "base_uri": "https://localhost:8080/"
        },
        "id": "1aedki8Q_XZi",
        "outputId": "ebb63fef-2eee-4923-da76-318af55481c0"
      },
      "execution_count": 57,
      "outputs": [
        {
          "output_type": "execute_result",
          "data": {
            "text/plain": [
              "True"
            ]
          },
          "metadata": {},
          "execution_count": 57
        }
      ]
    },
    {
      "cell_type": "code",
      "source": [
        "#  Write a code to create a set with the elements 'a', 'b', 'c' and print it.\n",
        "A = {'a', 'b', 'c'}\n",
        "print(A)"
      ],
      "metadata": {
        "colab": {
          "base_uri": "https://localhost:8080/"
        },
        "id": "jAKZ7ukb_3Gj",
        "outputId": "c0b3d8cc-2ab2-46f3-ceea-41aba38ebb9f"
      },
      "execution_count": 127,
      "outputs": [
        {
          "output_type": "stream",
          "name": "stdout",
          "text": [
            "{'a', 'b', 'c'}\n"
          ]
        }
      ]
    },
    {
      "cell_type": "code",
      "source": [
        "# Write a code to clear all elements from the set {1, 2, 3, 4, 5}.\n",
        "A = {1, 2, 3, 4, 5}\n",
        "A.clear()\n",
        "print(A)"
      ],
      "metadata": {
        "colab": {
          "base_uri": "https://localhost:8080/"
        },
        "id": "gtdif_MQACGm",
        "outputId": "81ee403f-5291-4ac9-a491-9dda8e94f0fd"
      },
      "execution_count": 141,
      "outputs": [
        {
          "output_type": "stream",
          "name": "stdout",
          "text": [
            "set()\n"
          ]
        }
      ]
    },
    {
      "cell_type": "code",
      "source": [
        "# Write a code to remove the element 4 from the set {1, 2, 3, 4}\n",
        "B = {1, 2, 3, 4}\n",
        "B.remove(4)\n",
        "print(B)"
      ],
      "metadata": {
        "colab": {
          "base_uri": "https://localhost:8080/"
        },
        "id": "ZwuWSJrsAOA-",
        "outputId": "b663f34b-575b-4d06-8a54-fde45e909c1a"
      },
      "execution_count": 64,
      "outputs": [
        {
          "output_type": "stream",
          "name": "stdout",
          "text": [
            "{1, 2, 3}\n"
          ]
        }
      ]
    },
    {
      "cell_type": "code",
      "source": [
        "# Write a code to find the union of two sets {1, 2, 3} and {3, 4, 5}.\n",
        "set_1 = {1, 2, 3}\n",
        "set_2 = {3, 4, 5}\n",
        "print(set_1 |set_2)"
      ],
      "metadata": {
        "colab": {
          "base_uri": "https://localhost:8080/"
        },
        "id": "RpM1HzQAAZiU",
        "outputId": "e0d41334-9366-43a8-d867-0b6f29818e94"
      },
      "execution_count": 66,
      "outputs": [
        {
          "output_type": "stream",
          "name": "stdout",
          "text": [
            "{1, 2, 3, 4, 5}\n"
          ]
        }
      ]
    },
    {
      "cell_type": "code",
      "source": [
        "#  Write a code to find the intersection of two sets {1, 2, 3} and {2, 3, 4}\n",
        "m = {1, 2, 3}\n",
        "n = {2, 3, 4}\n",
        "print(m & n)"
      ],
      "metadata": {
        "colab": {
          "base_uri": "https://localhost:8080/"
        },
        "id": "_PvLhCfZA41n",
        "outputId": "dc5b04cb-6e88-47ed-d4b7-7a70ab14f473"
      },
      "execution_count": 136,
      "outputs": [
        {
          "output_type": "stream",
          "name": "stdout",
          "text": [
            "{2, 3}\n"
          ]
        }
      ]
    },
    {
      "cell_type": "code",
      "source": [
        "#  Write a code to create a dictionary with the keys \"name\", \"age\", and \"city\", and print it.\n",
        "dictionary = {'name' : 'ram', 'age' : '27', 'city' : 'Hyderabad'}\n",
        "print(dictionary)"
      ],
      "metadata": {
        "colab": {
          "base_uri": "https://localhost:8080/"
        },
        "id": "y16jguDPBO3O",
        "outputId": "7163e8b4-5963-4bda-8091-1690b3fe6b61"
      },
      "execution_count": 68,
      "outputs": [
        {
          "output_type": "stream",
          "name": "stdout",
          "text": [
            "{'name': 'ram', 'age': '27', 'city': 'Hyderabad'}\n"
          ]
        }
      ]
    },
    {
      "cell_type": "code",
      "source": [
        "# Write a code to add a new key-value pair \"country\": \"USA\" to the dictionary {'name': 'John', 'age': 25}.\n",
        "Dictionary = {'name': 'John', 'age': 25}\n",
        "Dictionary['country'] = 'USA'\n",
        "print(Dictionary)"
      ],
      "metadata": {
        "colab": {
          "base_uri": "https://localhost:8080/"
        },
        "id": "_19phz3_BhIm",
        "outputId": "a722daa2-3d15-44c5-a1af-246961f07c52"
      },
      "execution_count": 72,
      "outputs": [
        {
          "output_type": "stream",
          "name": "stdout",
          "text": [
            "{'name': 'John', 'age': 25, 'country': 'USA'}\n"
          ]
        }
      ]
    },
    {
      "cell_type": "code",
      "source": [
        "# Write a code to access the value associated with the key \"name\" in the dictionary {'name': 'Alice', 'age': 30}.\n",
        "A = {'name': 'Alice', 'age': 30}\n",
        "print(A['name'])"
      ],
      "metadata": {
        "colab": {
          "base_uri": "https://localhost:8080/"
        },
        "id": "0oHIbPJYBzps",
        "outputId": "19ffde9e-3133-45b3-f571-5a52db9ded28"
      },
      "execution_count": 76,
      "outputs": [
        {
          "output_type": "stream",
          "name": "stdout",
          "text": [
            "Alice\n"
          ]
        }
      ]
    },
    {
      "cell_type": "code",
      "source": [
        "#  Write a code to remove the key \"age\" from the dictionary {'name': 'Bob', 'age': 22, 'city': 'New York'}.\n",
        "B = {'name': 'Bob', 'age': 22, 'city': 'New York'}\n",
        "B.pop('age')\n",
        "print(B)"
      ],
      "metadata": {
        "colab": {
          "base_uri": "https://localhost:8080/"
        },
        "id": "yhbNFC2aDfX3",
        "outputId": "eeabfaa9-b53e-46a4-bee3-62226ccd616b"
      },
      "execution_count": 86,
      "outputs": [
        {
          "output_type": "stream",
          "name": "stdout",
          "text": [
            "{'name': 'Bob', 'city': 'New York'}\n"
          ]
        }
      ]
    },
    {
      "cell_type": "code",
      "source": [
        "# Write a code to check if the key \"city\" exists in the dictionary {'name': 'Alice', 'city': 'Paris'}.\n",
        "name = {'name': 'Alice', 'city': 'Paris'}\n",
        "if 'city' in name :\n",
        "  print(\"Exist\")\n",
        "else:\n",
        "  print(\"not exist\")"
      ],
      "metadata": {
        "colab": {
          "base_uri": "https://localhost:8080/"
        },
        "id": "B80mWmWPEbwC",
        "outputId": "2fd2e675-10dd-4e7c-c163-ba2a5f619fe8"
      },
      "execution_count": 92,
      "outputs": [
        {
          "output_type": "stream",
          "name": "stdout",
          "text": [
            "Exist\n"
          ]
        }
      ]
    },
    {
      "cell_type": "code",
      "source": [
        "#  Write a code to create a list, a tuple, and a dictionary, and print them all.\n",
        "a= [[1,2],(3,4),{6:7}]\n",
        "print(a)\n",
        "\n",
        "b = (\"a\", \"c\")\n",
        "print(b)\n",
        "\n",
        "D = {'f':'g','h':'o'}\n",
        "print(D)"
      ],
      "metadata": {
        "colab": {
          "base_uri": "https://localhost:8080/"
        },
        "id": "a9_iiDwhFTe3",
        "outputId": "7463390f-30b4-4a70-a614-8e2490cad6d0"
      },
      "execution_count": 96,
      "outputs": [
        {
          "output_type": "stream",
          "name": "stdout",
          "text": [
            "[[1, 2], (3, 4), {6: 7}]\n",
            "('a', 'c')\n",
            "{'f': 'g', 'h': 'o'}\n"
          ]
        }
      ]
    },
    {
      "cell_type": "code",
      "source": [
        "# Write a code to create a list of 5 random numbers between 1 and 100, sort it in ascending order, and print the\n",
        "#result.(replaced)\n",
        "\n",
        "list = [89, 56, 100, 4, 55]\n",
        "list.sort()\n",
        "print(list)"
      ],
      "metadata": {
        "colab": {
          "base_uri": "https://localhost:8080/"
        },
        "id": "brElUFRwGPk-",
        "outputId": "9515cf5c-645e-4461-e3a8-b2a220c52e17"
      },
      "execution_count": 98,
      "outputs": [
        {
          "output_type": "stream",
          "name": "stdout",
          "text": [
            "[4, 55, 56, 89, 100]\n"
          ]
        }
      ]
    },
    {
      "cell_type": "code",
      "source": [
        "#  Write a code to create a list with strings and print the element at the third index.\n",
        "string_list = [\"name\", \"age\", \"class\", \"number\",\"height\",\"weight\"]\n",
        "print(string_list[3])"
      ],
      "metadata": {
        "colab": {
          "base_uri": "https://localhost:8080/"
        },
        "id": "XXsicCVHHX0L",
        "outputId": "d1eb943f-d2e3-4d54-905a-3f467cd39324"
      },
      "execution_count": 101,
      "outputs": [
        {
          "output_type": "stream",
          "name": "stdout",
          "text": [
            "number\n"
          ]
        }
      ]
    },
    {
      "cell_type": "code",
      "source": [
        "# Write a code to combine two dictionaries into one and print the result.\n",
        "dic_1 = {1 : \"twenty members\"}\n",
        "dic_2 = {2 : \"thirty members\"}\n",
        "\n",
        "dic_1.update(dic_2)\n",
        "print(dic_1)"
      ],
      "metadata": {
        "colab": {
          "base_uri": "https://localhost:8080/"
        },
        "id": "1HweuvjCHq5g",
        "outputId": "5aab27a6-46fd-40fe-e445-8fbc2e298695"
      },
      "execution_count": 110,
      "outputs": [
        {
          "output_type": "stream",
          "name": "stdout",
          "text": [
            "{1: 'twenty members', 2: 'thirty members'}\n"
          ]
        }
      ]
    },
    {
      "cell_type": "code",
      "source": [
        "# Write a code to convert a list of strings into a set\n",
        "a = [\"table\",\"eraser\", \"kick\"]\n",
        "b = set(a)\n",
        "print(b)"
      ],
      "metadata": {
        "colab": {
          "base_uri": "https://localhost:8080/",
          "height": 193
        },
        "id": "48TDyu6pIUQS",
        "outputId": "a80c557a-2e59-4337-b3ac-8d9fd2b201b6"
      },
      "execution_count": 143,
      "outputs": [
        {
          "output_type": "error",
          "ename": "TypeError",
          "evalue": "'set' object is not callable",
          "traceback": [
            "\u001b[0;31m---------------------------------------------------------------------------\u001b[0m",
            "\u001b[0;31mTypeError\u001b[0m                                 Traceback (most recent call last)",
            "\u001b[0;32m<ipython-input-143-8d7f143d7317>\u001b[0m in \u001b[0;36m<cell line: 0>\u001b[0;34m()\u001b[0m\n\u001b[1;32m      1\u001b[0m \u001b[0;31m# Write a code to convert a list of strings into a set\u001b[0m\u001b[0;34m\u001b[0m\u001b[0;34m\u001b[0m\u001b[0m\n\u001b[1;32m      2\u001b[0m \u001b[0ma\u001b[0m \u001b[0;34m=\u001b[0m \u001b[0;34m[\u001b[0m\u001b[0;34m\"table\"\u001b[0m\u001b[0;34m,\u001b[0m\u001b[0;34m\"eraser\"\u001b[0m\u001b[0;34m,\u001b[0m \u001b[0;34m\"kick\"\u001b[0m\u001b[0;34m]\u001b[0m\u001b[0;34m\u001b[0m\u001b[0;34m\u001b[0m\u001b[0m\n\u001b[0;32m----> 3\u001b[0;31m \u001b[0mb\u001b[0m \u001b[0;34m=\u001b[0m \u001b[0mset\u001b[0m\u001b[0;34m(\u001b[0m\u001b[0ma\u001b[0m\u001b[0;34m)\u001b[0m\u001b[0;34m\u001b[0m\u001b[0;34m\u001b[0m\u001b[0m\n\u001b[0m\u001b[1;32m      4\u001b[0m \u001b[0mprint\u001b[0m\u001b[0;34m(\u001b[0m\u001b[0mb\u001b[0m\u001b[0;34m)\u001b[0m\u001b[0;34m\u001b[0m\u001b[0;34m\u001b[0m\u001b[0m\n",
            "\u001b[0;31mTypeError\u001b[0m: 'set' object is not callable"
          ]
        }
      ]
    },
    {
      "cell_type": "code",
      "source": [
        "\n"
      ],
      "metadata": {
        "id": "p8-1yU8xKA7Z"
      },
      "execution_count": 127,
      "outputs": []
    },
    {
      "cell_type": "code",
      "source": [],
      "metadata": {
        "id": "jX_YSKtdMcqi"
      },
      "execution_count": null,
      "outputs": []
    }
  ]
}